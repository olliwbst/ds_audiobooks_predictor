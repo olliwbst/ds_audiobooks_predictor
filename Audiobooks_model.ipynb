{
 "cells": [
  {
   "cell_type": "markdown",
   "metadata": {},
   "source": [
    "# Audiobooks business case"
   ]
  },
  {
   "cell_type": "markdown",
   "metadata": {},
   "source": [
    "## Create the machine learning algorithm"
   ]
  },
  {
   "cell_type": "code",
   "execution_count": 1,
   "metadata": {},
   "outputs": [],
   "source": [
    "import numpy as np\n",
    "import tensorflow as tf\n",
    "import pickle"
   ]
  },
  {
   "cell_type": "markdown",
   "metadata": {},
   "source": [
    "### Data"
   ]
  },
  {
   "cell_type": "code",
   "execution_count": 2,
   "metadata": {},
   "outputs": [],
   "source": [
    "# temporary variable npz, where datasets are stored before loading in own variables\n",
    "npz = np.load('Audiobooks_data_train.npz')\n",
    "\n",
    "# extract the inputs using the keywords under which they were saved plus making sure they have\n",
    "# the correct datatypes before training\n",
    "train_inputs, train_targets = npz['inputs'].astype(np.float), npz['targets'].astype(np.int)\n",
    "\n",
    "# validation data\n",
    "npz = np.load('Audiobooks_data_validation.npz')\n",
    "validation_inputs, validation_targets = npz['inputs'].astype(np.float), npz['targets'].astype(np.int)\n",
    "\n",
    "# test data\n",
    "npz = np.load('Audiobooks_data_test.npz')\n",
    "test_inputs, test_targets = npz['inputs'].astype(np.float), npz['targets'].astype(np.int)"
   ]
  },
  {
   "cell_type": "markdown",
   "metadata": {},
   "source": [
    "### Model Hyperparameters"
   ]
  },
  {
   "cell_type": "code",
   "execution_count": 3,
   "metadata": {},
   "outputs": [],
   "source": [
    "# layer sizes\n",
    "input_size = 10\n",
    "output_size = 2\n",
    "hidden_layer_size = 200\n",
    "\n",
    "# training params\n",
    "\n",
    "batch_size = 100\n",
    "max_epochs = 100\n",
    "early_stopping = tf.keras.callbacks.EarlyStopping(patience=2)\n",
    "custom_optimizer = tf.keras.optimizers.Adam(learning_rate=0.001)"
   ]
  },
  {
   "cell_type": "markdown",
   "metadata": {},
   "source": [
    "### Model"
   ]
  },
  {
   "cell_type": "code",
   "execution_count": 4,
   "metadata": {},
   "outputs": [
    {
     "name": "stdout",
     "output_type": "stream",
     "text": [
      "Epoch 1/100\n",
      "36/36 - 0s - loss: 0.4142 - accuracy: 0.8474 - val_loss: 0.2694 - val_accuracy: 0.9038\n",
      "Epoch 2/100\n",
      "36/36 - 0s - loss: 0.2966 - accuracy: 0.8871 - val_loss: 0.2529 - val_accuracy: 0.9105\n",
      "Epoch 3/100\n",
      "36/36 - 0s - loss: 0.2799 - accuracy: 0.8888 - val_loss: 0.2321 - val_accuracy: 0.9172\n",
      "Epoch 4/100\n",
      "36/36 - 0s - loss: 0.2654 - accuracy: 0.8980 - val_loss: 0.2267 - val_accuracy: 0.9239\n",
      "Epoch 5/100\n",
      "36/36 - 0s - loss: 0.2565 - accuracy: 0.9039 - val_loss: 0.2235 - val_accuracy: 0.9150\n",
      "Epoch 6/100\n",
      "36/36 - 0s - loss: 0.2509 - accuracy: 0.9008 - val_loss: 0.2211 - val_accuracy: 0.9195\n",
      "Epoch 7/100\n",
      "36/36 - 0s - loss: 0.2445 - accuracy: 0.9053 - val_loss: 0.2181 - val_accuracy: 0.9262\n",
      "Epoch 8/100\n",
      "36/36 - 0s - loss: 0.2451 - accuracy: 0.9072 - val_loss: 0.2288 - val_accuracy: 0.9016\n",
      "Epoch 9/100\n",
      "36/36 - 0s - loss: 0.2408 - accuracy: 0.9078 - val_loss: 0.2085 - val_accuracy: 0.9262\n",
      "Epoch 10/100\n",
      "36/36 - 0s - loss: 0.2377 - accuracy: 0.9092 - val_loss: 0.2094 - val_accuracy: 0.9329\n",
      "Epoch 11/100\n",
      "36/36 - 0s - loss: 0.2467 - accuracy: 0.9075 - val_loss: 0.2129 - val_accuracy: 0.9284\n"
     ]
    },
    {
     "data": {
      "text/plain": [
       "<tensorflow.python.keras.callbacks.History at 0x1926b85ac88>"
      ]
     },
     "execution_count": 4,
     "metadata": {},
     "output_type": "execute_result"
    }
   ],
   "source": [
    "### Layerstack\n",
    "\n",
    "model = tf.keras.Sequential([\n",
    "    tf.keras.layers.Dense(hidden_layer_size, activation='relu'),\n",
    "    tf.keras.layers.Dense(hidden_layer_size, activation='relu'),\n",
    "    tf.keras.layers.Dense(output_size, activation='softmax')\n",
    "])\n",
    "\n",
    "### Compile\n",
    "\n",
    "model.compile(optimizer=custom_optimizer, loss='sparse_categorical_crossentropy', metrics=['accuracy'])\n",
    "\n",
    "### Training\n",
    "\n",
    "model.fit(train_inputs, # train inputs\n",
    "          train_targets, # train targets\n",
    "          batch_size=batch_size, # batch size\n",
    "          epochs=max_epochs, # epochs that we will train for (assuming early stopping doesn't kick in)\n",
    "          callbacks=[early_stopping],\n",
    "          validation_data=(validation_inputs, validation_targets), # validation data\n",
    "          verbose = 2 # making sure we get enough information about the training process\n",
    "          )"
   ]
  },
  {
   "cell_type": "markdown",
   "metadata": {},
   "source": [
    "### Testing the Model"
   ]
  },
  {
   "cell_type": "code",
   "execution_count": 5,
   "metadata": {},
   "outputs": [
    {
     "name": "stdout",
     "output_type": "stream",
     "text": [
      "14/14 [==============================] - 0s 1ms/step - loss: 0.2562 - accuracy: 0.9107\n"
     ]
    },
    {
     "data": {
      "text/plain": [
       "[0.2562461793422699, 0.9107142686843872]"
      ]
     },
     "execution_count": 5,
     "metadata": {},
     "output_type": "execute_result"
    }
   ],
   "source": [
    "model.evaluate(test_inputs, test_targets)"
   ]
  },
  {
   "cell_type": "markdown",
   "metadata": {},
   "source": [
    "### Saving the Model"
   ]
  },
  {
   "cell_type": "code",
   "execution_count": 6,
   "metadata": {},
   "outputs": [],
   "source": [
    "# use the tf.keras-build in save function to save model with all weights as *.h5\n",
    "# model.save('model.h5')"
   ]
  },
  {
   "cell_type": "markdown",
   "metadata": {},
   "source": [
    "### Example: Using the Model to predict new Data (after deploying it)\n",
    "the output is still one-hot encoded without further formating so the predictions here are: customer1 will most likely not buy again while customer2 most likely will"
   ]
  },
  {
   "cell_type": "code",
   "execution_count": 7,
   "metadata": {},
   "outputs": [
    {
     "data": {
      "text/plain": [
       "array([[0.99759763, 0.00240239],\n",
       "       [0.03611296, 0.9638871 ]], dtype=float32)"
      ]
     },
     "execution_count": 7,
     "metadata": {},
     "output_type": "execute_result"
    }
   ],
   "source": [
    "# array containing new data, exactly the same order than the model was trained with\n",
    "new_inputs = [[1900, 0, 9, 5.87, 0, 5, 0, 1, 0, 253], [1620, 1600, 5.87, 5.87, 0, 5, 0, 1, 0, 253]]\n",
    "\n",
    "# load the serialized scaler object that was fitted with the whole dataset \n",
    "with open('scaler.pickle', 'rb') as f:\n",
    "    audiobook_scaler = pickle.load(f)\n",
    "\n",
    "# loading the serialized model to use it for predictions\n",
    "model = tf.keras.models.load_model('model.h5')\n",
    "\n",
    "# scaling the data with the scaler\n",
    "new_inputs = audiobook_scaler.transform(new_inputs)\n",
    "\n",
    "# get the models predictions (one-hot encoded nd-array)\n",
    "model.predict(new_inputs)"
   ]
  }
 ],
 "metadata": {
  "kernelspec": {
   "display_name": "Python 3",
   "language": "python",
   "name": "python3"
  },
  "language_info": {
   "codemirror_mode": {
    "name": "ipython",
    "version": 3
   },
   "file_extension": ".py",
   "mimetype": "text/x-python",
   "name": "python",
   "nbconvert_exporter": "python",
   "pygments_lexer": "ipython3",
   "version": "3.7.6"
  }
 },
 "nbformat": 4,
 "nbformat_minor": 2
}
