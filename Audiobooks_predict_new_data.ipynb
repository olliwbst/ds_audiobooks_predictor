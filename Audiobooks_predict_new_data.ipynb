{
 "cells": [
  {
   "cell_type": "markdown",
   "metadata": {},
   "source": [
    "# Using the audiobooks_module to predict new data (can be seen as deploying and using the model)"
   ]
  },
  {
   "cell_type": "markdown",
   "metadata": {},
   "source": [
    "### as the module itself has all needed imports we only need to import this one"
   ]
  },
  {
   "cell_type": "code",
   "execution_count": 1,
   "metadata": {},
   "outputs": [],
   "source": [
    "import audiobooks_module"
   ]
  },
  {
   "cell_type": "markdown",
   "metadata": {},
   "source": [
    "### load the serialized data into an instance of the audiobook_model class"
   ]
  },
  {
   "cell_type": "code",
   "execution_count": 2,
   "metadata": {},
   "outputs": [],
   "source": [
    "model = audiobooks_module.audiobooks_model('model.h5', 'scaler.pickle')"
   ]
  },
  {
   "cell_type": "markdown",
   "metadata": {},
   "source": [
    "### use the cleaning function to clean the new data"
   ]
  },
  {
   "cell_type": "code",
   "execution_count": 3,
   "metadata": {},
   "outputs": [],
   "source": [
    "model.load_and_clean_data('Audiobooks_new_data.csv')"
   ]
  },
  {
   "cell_type": "markdown",
   "metadata": {},
   "source": [
    "### predict the probability of a customer buying again in the future"
   ]
  },
  {
   "cell_type": "code",
   "execution_count": 4,
   "metadata": {},
   "outputs": [
    {
     "data": {
      "text/plain": [
       "array([5.9949970e-01, 6.3784456e-01, 5.2962971e-01, 5.5206829e-01,\n",
       "       2.6141059e-01, 2.4425877e-09, 9.8898125e-01, 2.9168799e-04,\n",
       "       4.8291436e-01, 7.9777825e-01, 2.5012547e-01, 5.2750160e-10,\n",
       "       8.5155702e-01, 4.6883625e-20, 1.8279992e-02, 2.2984633e-08,\n",
       "       8.5332763e-01, 2.8960587e-04, 3.5303971e-10, 7.5224340e-01,\n",
       "       5.0245053e-01, 6.3784456e-01, 2.8112787e-01, 7.5244182e-01,\n",
       "       5.7917154e-01, 1.7955950e-08, 2.3067083e-18, 2.8945544e-01,\n",
       "       9.9994171e-01, 1.6077421e-06, 8.9251289e-06, 4.6743011e-08,\n",
       "       1.3221601e-06, 8.0755782e-01, 5.5969727e-01, 7.8435415e-01,\n",
       "       3.8674921e-18, 6.5459096e-01, 2.9189732e-07, 1.2944295e-04,\n",
       "       5.5206829e-01, 1.3511449e-01, 8.9133030e-01, 2.8437449e-04,\n",
       "       7.7623928e-01, 3.8480859e-08, 6.8392897e-01, 6.4845008e-01,\n",
       "       6.8484211e-01, 5.8075058e-01, 4.3060467e-02, 3.3404440e-01,\n",
       "       8.5996091e-01, 1.3838307e-08, 9.9998283e-01, 7.6467786e-19,\n",
       "       5.8364540e-01, 1.3396299e-03, 4.2739758e-01, 6.2463897e-01,\n",
       "       9.9997270e-01, 7.2646039e-10, 8.3113450e-01, 6.8118054e-01,\n",
       "       1.3081943e-04, 7.6137751e-01, 9.9999392e-01, 8.1486796e-20,\n",
       "       8.5605848e-01, 2.9691572e-03, 4.5008278e-01, 6.3784456e-01,\n",
       "       9.9998915e-01, 9.9999988e-01, 7.0146924e-01, 2.4503793e-01,\n",
       "       6.4356852e-01, 5.4413427e-02, 5.2841246e-01, 1.9283853e-07,\n",
       "       6.5623528e-01, 8.3778358e-01, 6.1711782e-01, 3.8541469e-01,\n",
       "       5.0839577e-02, 9.2779434e-01, 5.4917991e-01, 5.5864067e-03,\n",
       "       2.0347105e-08, 1.4763826e-05, 1.2063006e-07, 7.3668534e-01,\n",
       "       2.8105551e-02, 7.0593220e-01, 3.4631897e-10, 9.9768066e-01,\n",
       "       6.4075178e-01, 6.0041922e-01, 7.4494356e-01, 9.1798230e-20],\n",
       "      dtype=float32)"
      ]
     },
     "execution_count": 4,
     "metadata": {},
     "output_type": "execute_result"
    }
   ],
   "source": [
    "model.predicted_probability()"
   ]
  },
  {
   "cell_type": "markdown",
   "metadata": {},
   "source": [
    "### trick to get total count of new datapoints"
   ]
  },
  {
   "cell_type": "code",
   "execution_count": 5,
   "metadata": {},
   "outputs": [
    {
     "data": {
      "text/plain": [
       "100"
      ]
     },
     "execution_count": 5,
     "metadata": {},
     "output_type": "execute_result"
    }
   ],
   "source": [
    "len(model.predicted_probability())"
   ]
  },
  {
   "cell_type": "markdown",
   "metadata": {},
   "source": [
    "### get the predicted classes, 0=wont buy again, 1=will buy again"
   ]
  },
  {
   "cell_type": "code",
   "execution_count": 6,
   "metadata": {},
   "outputs": [
    {
     "data": {
      "text/plain": [
       "[1,\n",
       " 1,\n",
       " 1,\n",
       " 1,\n",
       " 0,\n",
       " 0,\n",
       " 1,\n",
       " 0,\n",
       " 0,\n",
       " 1,\n",
       " 0,\n",
       " 0,\n",
       " 1,\n",
       " 0,\n",
       " 0,\n",
       " 0,\n",
       " 1,\n",
       " 0,\n",
       " 0,\n",
       " 1,\n",
       " 1,\n",
       " 1,\n",
       " 0,\n",
       " 1,\n",
       " 1,\n",
       " 0,\n",
       " 0,\n",
       " 0,\n",
       " 1,\n",
       " 0,\n",
       " 0,\n",
       " 0,\n",
       " 0,\n",
       " 1,\n",
       " 1,\n",
       " 1,\n",
       " 0,\n",
       " 1,\n",
       " 0,\n",
       " 0,\n",
       " 1,\n",
       " 0,\n",
       " 1,\n",
       " 0,\n",
       " 1,\n",
       " 0,\n",
       " 1,\n",
       " 1,\n",
       " 1,\n",
       " 1,\n",
       " 0,\n",
       " 0,\n",
       " 1,\n",
       " 0,\n",
       " 1,\n",
       " 0,\n",
       " 1,\n",
       " 0,\n",
       " 0,\n",
       " 1,\n",
       " 1,\n",
       " 0,\n",
       " 1,\n",
       " 1,\n",
       " 0,\n",
       " 1,\n",
       " 1,\n",
       " 0,\n",
       " 1,\n",
       " 0,\n",
       " 0,\n",
       " 1,\n",
       " 1,\n",
       " 1,\n",
       " 1,\n",
       " 0,\n",
       " 1,\n",
       " 0,\n",
       " 1,\n",
       " 0,\n",
       " 1,\n",
       " 1,\n",
       " 1,\n",
       " 0,\n",
       " 0,\n",
       " 1,\n",
       " 1,\n",
       " 0,\n",
       " 0,\n",
       " 0,\n",
       " 0,\n",
       " 1,\n",
       " 0,\n",
       " 1,\n",
       " 0,\n",
       " 1,\n",
       " 1,\n",
       " 1,\n",
       " 1,\n",
       " 0]"
      ]
     },
     "execution_count": 6,
     "metadata": {},
     "output_type": "execute_result"
    }
   ],
   "source": [
    "model.predicted_output_category()"
   ]
  },
  {
   "cell_type": "markdown",
   "metadata": {},
   "source": [
    "### returns a dataframe with the foramted new data plus two new columns: probability of someone buying again and predicted class"
   ]
  },
  {
   "cell_type": "code",
   "execution_count": 7,
   "metadata": {
    "scrolled": false
   },
   "outputs": [
    {
     "data": {
      "text/html": [
       "<div>\n",
       "<style scoped>\n",
       "    .dataframe tbody tr th:only-of-type {\n",
       "        vertical-align: middle;\n",
       "    }\n",
       "\n",
       "    .dataframe tbody tr th {\n",
       "        vertical-align: top;\n",
       "    }\n",
       "\n",
       "    .dataframe thead th {\n",
       "        text-align: right;\n",
       "    }\n",
       "</style>\n",
       "<table border=\"1\" class=\"dataframe\">\n",
       "  <thead>\n",
       "    <tr style=\"text-align: right;\">\n",
       "      <th></th>\n",
       "      <th>Book length (mins)_overall</th>\n",
       "      <th>Book length (mins)_avg</th>\n",
       "      <th>Price_overall</th>\n",
       "      <th>Price_avg</th>\n",
       "      <th>Review</th>\n",
       "      <th>Review 10/10</th>\n",
       "      <th>Completion</th>\n",
       "      <th>Minutes listened</th>\n",
       "      <th>Support Requests</th>\n",
       "      <th>Last visited minus Purchase date</th>\n",
       "      <th>Probability</th>\n",
       "      <th>Prediction</th>\n",
       "    </tr>\n",
       "  </thead>\n",
       "  <tbody>\n",
       "    <tr>\n",
       "      <th>0</th>\n",
       "      <td>2160</td>\n",
       "      <td>2160</td>\n",
       "      <td>5.33</td>\n",
       "      <td>5.33</td>\n",
       "      <td>0</td>\n",
       "      <td>8.91</td>\n",
       "      <td>0.0</td>\n",
       "      <td>23.76</td>\n",
       "      <td>0</td>\n",
       "      <td>0</td>\n",
       "      <td>5.994997e-01</td>\n",
       "      <td>1</td>\n",
       "    </tr>\n",
       "    <tr>\n",
       "      <th>1</th>\n",
       "      <td>2160</td>\n",
       "      <td>2160</td>\n",
       "      <td>5.33</td>\n",
       "      <td>5.33</td>\n",
       "      <td>0</td>\n",
       "      <td>8.91</td>\n",
       "      <td>0.0</td>\n",
       "      <td>0.00</td>\n",
       "      <td>0</td>\n",
       "      <td>0</td>\n",
       "      <td>6.378446e-01</td>\n",
       "      <td>1</td>\n",
       "    </tr>\n",
       "    <tr>\n",
       "      <th>2</th>\n",
       "      <td>2160</td>\n",
       "      <td>2160</td>\n",
       "      <td>5.33</td>\n",
       "      <td>5.33</td>\n",
       "      <td>0</td>\n",
       "      <td>8.91</td>\n",
       "      <td>0.0</td>\n",
       "      <td>64.80</td>\n",
       "      <td>0</td>\n",
       "      <td>0</td>\n",
       "      <td>5.296297e-01</td>\n",
       "      <td>1</td>\n",
       "    </tr>\n",
       "    <tr>\n",
       "      <th>3</th>\n",
       "      <td>648</td>\n",
       "      <td>648</td>\n",
       "      <td>5.33</td>\n",
       "      <td>5.33</td>\n",
       "      <td>0</td>\n",
       "      <td>8.91</td>\n",
       "      <td>0.0</td>\n",
       "      <td>0.00</td>\n",
       "      <td>0</td>\n",
       "      <td>0</td>\n",
       "      <td>5.520683e-01</td>\n",
       "      <td>1</td>\n",
       "    </tr>\n",
       "    <tr>\n",
       "      <th>4</th>\n",
       "      <td>2160</td>\n",
       "      <td>2160</td>\n",
       "      <td>7.54</td>\n",
       "      <td>7.54</td>\n",
       "      <td>0</td>\n",
       "      <td>8.91</td>\n",
       "      <td>0.0</td>\n",
       "      <td>734.40</td>\n",
       "      <td>0</td>\n",
       "      <td>226</td>\n",
       "      <td>2.614106e-01</td>\n",
       "      <td>0</td>\n",
       "    </tr>\n",
       "    <tr>\n",
       "      <th>...</th>\n",
       "      <td>...</td>\n",
       "      <td>...</td>\n",
       "      <td>...</td>\n",
       "      <td>...</td>\n",
       "      <td>...</td>\n",
       "      <td>...</td>\n",
       "      <td>...</td>\n",
       "      <td>...</td>\n",
       "      <td>...</td>\n",
       "      <td>...</td>\n",
       "      <td>...</td>\n",
       "      <td>...</td>\n",
       "    </tr>\n",
       "    <tr>\n",
       "      <th>95</th>\n",
       "      <td>1620</td>\n",
       "      <td>1620</td>\n",
       "      <td>5.95</td>\n",
       "      <td>5.95</td>\n",
       "      <td>1</td>\n",
       "      <td>8.00</td>\n",
       "      <td>0.0</td>\n",
       "      <td>0.00</td>\n",
       "      <td>1</td>\n",
       "      <td>132</td>\n",
       "      <td>9.976807e-01</td>\n",
       "      <td>1</td>\n",
       "    </tr>\n",
       "    <tr>\n",
       "      <th>96</th>\n",
       "      <td>1188</td>\n",
       "      <td>1188</td>\n",
       "      <td>5.33</td>\n",
       "      <td>5.33</td>\n",
       "      <td>0</td>\n",
       "      <td>8.91</td>\n",
       "      <td>0.0</td>\n",
       "      <td>0.00</td>\n",
       "      <td>0</td>\n",
       "      <td>0</td>\n",
       "      <td>6.407518e-01</td>\n",
       "      <td>1</td>\n",
       "    </tr>\n",
       "    <tr>\n",
       "      <th>97</th>\n",
       "      <td>648</td>\n",
       "      <td>648</td>\n",
       "      <td>6.40</td>\n",
       "      <td>6.40</td>\n",
       "      <td>0</td>\n",
       "      <td>8.91</td>\n",
       "      <td>0.0</td>\n",
       "      <td>0.00</td>\n",
       "      <td>0</td>\n",
       "      <td>0</td>\n",
       "      <td>6.004192e-01</td>\n",
       "      <td>1</td>\n",
       "    </tr>\n",
       "    <tr>\n",
       "      <th>98</th>\n",
       "      <td>324</td>\n",
       "      <td>324</td>\n",
       "      <td>5.33</td>\n",
       "      <td>5.33</td>\n",
       "      <td>1</td>\n",
       "      <td>10.00</td>\n",
       "      <td>0.0</td>\n",
       "      <td>41.04</td>\n",
       "      <td>0</td>\n",
       "      <td>0</td>\n",
       "      <td>7.449436e-01</td>\n",
       "      <td>1</td>\n",
       "    </tr>\n",
       "    <tr>\n",
       "      <th>99</th>\n",
       "      <td>648</td>\n",
       "      <td>648</td>\n",
       "      <td>5.33</td>\n",
       "      <td>5.33</td>\n",
       "      <td>0</td>\n",
       "      <td>8.91</td>\n",
       "      <td>1.0</td>\n",
       "      <td>0.00</td>\n",
       "      <td>0</td>\n",
       "      <td>182</td>\n",
       "      <td>9.179823e-20</td>\n",
       "      <td>0</td>\n",
       "    </tr>\n",
       "  </tbody>\n",
       "</table>\n",
       "<p>100 rows × 12 columns</p>\n",
       "</div>"
      ],
      "text/plain": [
       "    Book length (mins)_overall  Book length (mins)_avg  Price_overall  \\\n",
       "0                         2160                    2160           5.33   \n",
       "1                         2160                    2160           5.33   \n",
       "2                         2160                    2160           5.33   \n",
       "3                          648                     648           5.33   \n",
       "4                         2160                    2160           7.54   \n",
       "..                         ...                     ...            ...   \n",
       "95                        1620                    1620           5.95   \n",
       "96                        1188                    1188           5.33   \n",
       "97                         648                     648           6.40   \n",
       "98                         324                     324           5.33   \n",
       "99                         648                     648           5.33   \n",
       "\n",
       "    Price_avg  Review  Review 10/10  Completion  Minutes listened  \\\n",
       "0        5.33       0          8.91         0.0             23.76   \n",
       "1        5.33       0          8.91         0.0              0.00   \n",
       "2        5.33       0          8.91         0.0             64.80   \n",
       "3        5.33       0          8.91         0.0              0.00   \n",
       "4        7.54       0          8.91         0.0            734.40   \n",
       "..        ...     ...           ...         ...               ...   \n",
       "95       5.95       1          8.00         0.0              0.00   \n",
       "96       5.33       0          8.91         0.0              0.00   \n",
       "97       6.40       0          8.91         0.0              0.00   \n",
       "98       5.33       1         10.00         0.0             41.04   \n",
       "99       5.33       0          8.91         1.0              0.00   \n",
       "\n",
       "    Support Requests  Last visited minus Purchase date   Probability  \\\n",
       "0                  0                                 0  5.994997e-01   \n",
       "1                  0                                 0  6.378446e-01   \n",
       "2                  0                                 0  5.296297e-01   \n",
       "3                  0                                 0  5.520683e-01   \n",
       "4                  0                               226  2.614106e-01   \n",
       "..               ...                               ...           ...   \n",
       "95                 1                               132  9.976807e-01   \n",
       "96                 0                                 0  6.407518e-01   \n",
       "97                 0                                 0  6.004192e-01   \n",
       "98                 0                                 0  7.449436e-01   \n",
       "99                 0                               182  9.179823e-20   \n",
       "\n",
       "    Prediction  \n",
       "0            1  \n",
       "1            1  \n",
       "2            1  \n",
       "3            1  \n",
       "4            0  \n",
       "..         ...  \n",
       "95           1  \n",
       "96           1  \n",
       "97           1  \n",
       "98           1  \n",
       "99           0  \n",
       "\n",
       "[100 rows x 12 columns]"
      ]
     },
     "execution_count": 7,
     "metadata": {},
     "output_type": "execute_result"
    }
   ],
   "source": [
    "model.predicted_outputs()"
   ]
  },
  {
   "cell_type": "markdown",
   "metadata": {},
   "source": [
    "### save the new dataframe as *.csv for further use (tableau etc.)"
   ]
  },
  {
   "cell_type": "code",
   "execution_count": 8,
   "metadata": {},
   "outputs": [],
   "source": [
    "model.predicted_outputs().to_csv('Audiobook_predictions.csv', index = False)"
   ]
  }
 ],
 "metadata": {
  "kernelspec": {
   "display_name": "Python 3",
   "language": "python",
   "name": "python3"
  },
  "language_info": {
   "codemirror_mode": {
    "name": "ipython",
    "version": 3
   },
   "file_extension": ".py",
   "mimetype": "text/x-python",
   "name": "python",
   "nbconvert_exporter": "python",
   "pygments_lexer": "ipython3",
   "version": "3.7.6"
  }
 },
 "nbformat": 4,
 "nbformat_minor": 4
}
